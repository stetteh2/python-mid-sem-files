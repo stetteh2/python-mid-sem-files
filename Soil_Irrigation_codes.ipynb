{
  "nbformat": 4,
  "nbformat_minor": 0,
  "metadata": {
    "colab": {
      "provenance": [],
      "authorship_tag": "ABX9TyPcAcb4zmajEOiNKUkFifg6",
      "include_colab_link": true
    },
    "kernelspec": {
      "name": "python3",
      "display_name": "Python 3"
    },
    "language_info": {
      "name": "python"
    }
  },
  "cells": [
    {
      "cell_type": "markdown",
      "metadata": {
        "id": "view-in-github",
        "colab_type": "text"
      },
      "source": [
        "<a href=\"https://colab.research.google.com/github/stetteh2/python-mid-sem-files/blob/main/Soil_Irrigation_codes.ipynb\" target=\"_parent\"><img src=\"https://colab.research.google.com/assets/colab-badge.svg\" alt=\"Open In Colab\"/></a>"
      ]
    },
    {
      "cell_type": "code",
      "execution_count": 45,
      "metadata": {
        "id": "JSgXA_QEqT13",
        "colab": {
          "base_uri": "https://localhost:8080/"
        },
        "outputId": "078a047e-d7b5-4a2b-da45-fe99e7ae7326"
      },
      "outputs": [
        {
          "output_type": "stream",
          "name": "stdout",
          "text": [
            "  Sensor ID Location        Date  Time  Soil Moisture (%)  Temperature (°C)  \\\n",
            "0                NaN         NaN   NaN                NaN               NaN   \n",
            "1         1  Field A  01/07/2023  8:00               15.0              30.0   \n",
            "2                NaN         NaN   NaN                NaN               NaN   \n",
            "3         2  Field B  01/07/2023  8:00               35.0              28.0   \n",
            "4                NaN         NaN   NaN                NaN               NaN   \n",
            "\n",
            "   Humidity (%)  Rainfall (mm) Irrigation Needed  Unnamed: 9  \n",
            "0           NaN            NaN               NaN         NaN  \n",
            "1          50.0            0.0               Yes         NaN  \n",
            "2           NaN            NaN               NaN         NaN  \n",
            "3          60.0            0.0                No         NaN  \n",
            "4           NaN            NaN               NaN         NaN  \n",
            "\n",
            "Average Soil Moisture by Location:\n",
            " Location\n",
            "Field A    12.5\n",
            "Field B    37.5\n",
            "Field C    19.0\n",
            "Name: Soil Moisture (%), dtype: float64\n",
            "\n",
            "Irrigation Decision Summary:\n",
            " Irrigation Needed\n",
            "Yes    3\n",
            "No     3\n",
            "Name: count, dtype: int64\n"
          ]
        }
      ],
      "source": [
        "#soil irrigation project\n",
        "\n",
        "import pandas as pd\n",
        "from textblob import TextBlob\n",
        "import matplotlib.pyplot as plt\n",
        "\n",
        "url = \"https://raw.githubusercontent.com/stetteh2/python-mid-sem-files/refs/heads/main/soil_irrigation.csv\"\n",
        "df = pd.read_csv(\"https://raw.githubusercontent.com/stetteh2/python-mid-sem-files/refs/heads/main/soil_irrigation.csv\")\n",
        "print(df.head())\n",
        "\n",
        "avg_soil_moisture = df.groupby('Location')['Soil Moisture (%)'].mean()\n",
        "print(\"\\nAverage Soil Moisture by Location:\\n\", avg_soil_moisture)\n",
        "\n",
        "irrigation_summary = df['Irrigation Needed'].value_counts()\n",
        "print(\"\\nIrrigation Decision Summary:\\n\", irrigation_summary)\n",
        "\n",
        "def irrigation_decision(row):\n",
        "    if row['Soil Moisture (%)'] < 20 and row['Rainfall (mm)'] < 2.0:\n",
        "        return \"Yes\"\n",
        "    else:\n",
        "        return \"No\"\n",
        "\n",
        "        df['Automated Decision'] = df.apply(irrigation_decision, axis=1)\n",
        "\n",
        "        comparison = df['Irrigation Needed'] == df['Automated Decision']\n",
        "        print(\"\\nAccuracy of Automated Decisions:\", comparison.mean() * 100, \"%\")\n"
      ]
    }
  ]
}