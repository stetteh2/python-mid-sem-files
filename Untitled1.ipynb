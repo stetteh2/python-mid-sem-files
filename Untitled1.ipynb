{
  "nbformat": 4,
  "nbformat_minor": 0,
  "metadata": {
    "colab": {
      "provenance": [],
      "authorship_tag": "ABX9TyOrnJ4wyQaT07rMaLkIpUQf",
      "include_colab_link": true
    },
    "kernelspec": {
      "name": "python3",
      "display_name": "Python 3"
    },
    "language_info": {
      "name": "python"
    }
  },
  "cells": [
    {
      "cell_type": "markdown",
      "metadata": {
        "id": "view-in-github",
        "colab_type": "text"
      },
      "source": [
        "<a href=\"https://colab.research.google.com/github/stetteh2/python-mid-sem-files/blob/main/Untitled1.ipynb\" target=\"_parent\"><img src=\"https://colab.research.google.com/assets/colab-badge.svg\" alt=\"Open In Colab\"/></a>"
      ]
    },
    {
      "cell_type": "code",
      "execution_count": null,
      "metadata": {
        "id": "JSgXA_QEqT13"
      },
      "outputs": [],
      "source": [
        "import pandas as pd\n",
        "from textblob import TextBlob\n",
        "import matplotlib.pyplot as plt\n",
        "\n",
        "url = \"https://raw.githubusercontent.com/stetteh2/python-mid-sem-files/refs/heads/main/sentiment.csv\"\n",
        "df = pd.read_csv(\"https://raw.githubusercontent.com/stetteh2/python-mid-sem-files/refs/heads/main/sentiment.csv\")\n",
        "print(df.head(20))\n",
        "def analyze_sentiment(review):\n",
        "analysis = TextBlob(review)\n",
        "if analysis.sentiment.polarity > 0:\n",
        "return \"Positive\"\n",
        "elif analysis.sentiment.polarity < 0:\n",
        "return \"Negative\"\n",
        "else:\n",
        "return \"Neutral\"\n",
        "df['Sentiment'] = df['Review'].apply(analyze_sentiment)\n",
        "print(df[['Review', 'Sentiment']])\n",
        "df['Sentiment'] = df['Review'].apply(analyze_sentiment)\n",
        "print(df[['Review', 'Sentiment']])\n",
        "sentiment_counts = df['Sentiment'].value_counts()\n",
        "print(\"\\nSentiment Distribution:\")\n",
        "print(sentiment_counts)\n",
        "\n",
        "sentiment_counts.plot(kind='bar', color=['green', 'red', 'blue'], figsize=(8, 5))\n",
        "plt.title('Sentiment Analysis of Customer Reviews')\n",
        "plt.xlabel('Sentiment')\n",
        "plt.ylabel('Number of Reviews')\n",
        "plt.show()"
      ]
    }
  ]
}